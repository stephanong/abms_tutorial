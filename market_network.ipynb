{
 "cells": [
  {
   "cell_type": "markdown",
   "metadata": {},
   "source": [
    "# Adoption Model"
   ]
  },
  {
   "cell_type": "markdown",
   "metadata": {},
   "source": [
    "This is the code used in the tutorial paper: Onggo BSS, Foramitti J (in press). Agent-Based Modeling and Simulation for Management Decisions: A Review and Tutorial. In Proceedings of the 2021 Winter Simulation Conference, pp.\n",
    "\n",
    "The model represents a market with a finite number of consumers for a product (i.e. no competition). Initially, all consumers are non-adopters. A consumer can become an adopter when it receives an advertisement that is broadcasted to all agents in each time step, or when the consumer receives word-of-mouth (WOM) messages from its neighbors. Once a consumer becomes an adopter, it will stay as an adopter until the simulation ends. The objective of the model is to estimate the impact of WOM and advertisement on product sales. This example is taken from Grigoryev (2018) “AnyLogic in Three Days: Modeling and Simulation Textbook” https://www.anylogic.com/resources/books/free-simulation-book-and-modeling-tutorials/.\n",
    "\n",
    "if you have not installed agentpy, you need to install it first (you only need to do this once)"
   ]
  },
  {
   "cell_type": "code",
   "execution_count": null,
   "metadata": {},
   "outputs": [],
   "source": [
    "!pip install agentpy"
   ]
  },
  {
   "cell_type": "markdown",
   "metadata": {},
   "source": [
    "Import libraries that will be used in the model."
   ]
  },
  {
   "cell_type": "code",
   "execution_count": 1,
   "metadata": {},
   "outputs": [],
   "source": [
    "import agentpy as ap \n",
    "import networkx as nx\n",
    "import seaborn as sns\n",
    "import matplotlib.pyplot as plt"
   ]
  },
  {
   "cell_type": "markdown",
   "metadata": {},
   "source": [
    "## Agent definition\n",
    "\n",
    "This is where we define consumer agent type. In agentpy, we need to override setup() which is the constructor of the agent type. In the setup(), we define the agent's properties: \n",
    "1. ad_effectiveness: the probability of the agent will become user when receiving an advertisement message\n",
    "2. adoption_fraction: the probability of the agent will become user when receiving a word of mouth (WOM) message\n",
    "3. contact_rate: applicable to user only. This is the frequency of WOM message sent each timestep.\n",
    "4. become_adopter: if true, the consumer will become a use in the next timestep\n",
    "5. is_user: true if the consumer is a user"
   ]
  },
  {
   "cell_type": "code",
   "execution_count": 2,
   "metadata": {},
   "outputs": [],
   "source": [
    "class ConsumerAgent(ap.Agent):\n",
    "    def setup(self):\n",
    "        self.ad_effectiveness = 0.01\n",
    "        self.adoption_fraction = 0.01\n",
    "        self.contact_rate = 1\n",
    "        self.become_adopter = False\n",
    "        self.is_adopter = False\n",
    "        \n",
    "    def get_neighbors(self):\n",
    "        self.neighbors = self.network.neighbors(self).to_list()\n",
    "        \n",
    "    def step(self):\n",
    "        if self.is_adopter: \n",
    "            for _ in range(self.contact_rate):\n",
    "                partner = self.neighbors.random()\n",
    "                if not partner.is_adopter:\n",
    "                    partner.adopt(probability=partner.adoption_fraction)\n",
    "        else:\n",
    "            self.adopt(probability=self.ad_effectiveness)\n",
    "            \n",
    "    def adopt(self, probability):\n",
    "        if self.model.random.random() < probability:\n",
    "            self.become_adopter = True\n",
    "            \n",
    "    def update(self):\n",
    "        if self.become_adopter:\n",
    "            self.is_adopter = True\n",
    "            self.become_adopter = False\n",
    "            self.model.n_adopters += 1"
   ]
  },
  {
   "cell_type": "markdown",
   "metadata": {},
   "source": [
    "## Model definition\n",
    "\n",
    "we need to define the ABM by overriding four methods: setup, step, and update and end. When a simulation is started, it will call method setup(). This is where we add agents and environment into the model. The method step() is used to define what agents will do in each time step. In this model, all agents will run their step() method. The method update() is called after the methods setup() and step() are completed. If needed, we can override method end() which will be executed when the simulation ends. In this model, we ask all agents to record their final state."
   ]
  },
  {
   "cell_type": "code",
   "execution_count": 3,
   "metadata": {},
   "outputs": [],
   "source": [
    "class MarketModel(ap.Model):\n",
    "    def setup(self):\n",
    "        graph = nx.watts_strogatz_graph(\n",
    "            self.p.n_agents, \n",
    "            self.p.n_neighbors, \n",
    "            self.p.network_randomness)\n",
    "        \n",
    "        self.n_adopters = 0\n",
    "        self.agents = ap.AgentList(self, self.p.n_agents, ConsumerAgent)\n",
    "        self.network = self.agents.network = ap.Network(self, graph=graph)\n",
    "        self.network.add_agents(self.agents, self.network.nodes)\n",
    "        self.agents.get_neighbors()\n",
    "        \n",
    "    def step(self):\n",
    "        self.agents.step()\n",
    "\n",
    "    def update(self):\n",
    "        self.agents.update()\n",
    "        self.record('n_adopters')\n",
    "        \n",
    "    def end(self):\n",
    "        self.agents.record('is_adopter')"
   ]
  },
  {
   "cell_type": "markdown",
   "metadata": {},
   "source": [
    "## Parameters"
   ]
  },
  {
   "cell_type": "code",
   "execution_count": null,
   "metadata": {},
   "outputs": [],
   "source": [
    "parameters = {\n",
    "    'seed': 1,\n",
    "    'steps': 300,\n",
    "    'n_agents': 1000,\n",
    "    'n_neighbors': 2,\n",
    "    'network_randomness': 0.5,\n",
    "}"
   ]
  },
  {
   "cell_type": "markdown",
   "metadata": {},
   "source": [
    "## Single run"
   ]
  },
  {
   "cell_type": "code",
   "execution_count": 4,
   "metadata": {},
   "outputs": [
    {
     "name": "stdout",
     "output_type": "stream",
     "text": [
      "Completed: 300 steps\n",
      "Run time: 0:00:01.134276\n",
      "Simulation finished\n"
     ]
    },
    {
     "data": {
      "image/png": "[encoded data removed]",
      "text/plain": [
       "<Figure size 432x288 with 1 Axes>"
      ]
     },
     "metadata": {
      "needs_background": "light"
     },
     "output_type": "display_data"
    }
   ],
   "source": [
    "model = MarketModel(parameters)\n",
    "results = model.run()\n",
    "data = results.variables.MarketModel\n",
    "ax = data.plot()"
   ]
  },
  {
   "cell_type": "markdown",
   "metadata": {},
   "source": [
    "## Multiple runs"
   ]
  },
  {
   "cell_type": "code",
   "execution_count": 5,
   "metadata": {},
   "outputs": [
    {
     "name": "stdout",
     "output_type": "stream",
     "text": [
      "Scheduled runs: 10\n",
      "Completed: 10, estimated time remaining: 0:00:00\n",
      "Experiment finished\n",
      "Run time: 0:00:10.523984\n"
     ]
    },
    {
     "data": {
      "image/png": "[encoded data removed]",
      "text/plain": [
       "<Figure size 432x288 with 1 Axes>"
      ]
     },
     "metadata": {
      "needs_background": "light"
     },
     "output_type": "display_data"
    }
   ],
   "source": [
    "exp = ap.Experiment(MarketModel, parameters, record=True, iterations=10)\n",
    "results = exp.run()\n",
    "data = results.arrange_variables()\n",
    "ax = sns.lineplot(data=data, x='t', y='n_adopters')"
   ]
  }
 ],
 "metadata": {
  "kernelspec": {
   "display_name": "Python 3",
   "language": "python",
   "name": "python3"
  },
  "language_info": {
   "codemirror_mode": {
    "name": "ipython",
    "version": 3
   },
   "file_extension": ".py",
   "mimetype": "text/x-python",
   "name": "python",
   "nbconvert_exporter": "python",
   "pygments_lexer": "ipython3",
   "version": "3.8.3"
  }
 },
 "nbformat": 4,
 "nbformat_minor": 4
}
